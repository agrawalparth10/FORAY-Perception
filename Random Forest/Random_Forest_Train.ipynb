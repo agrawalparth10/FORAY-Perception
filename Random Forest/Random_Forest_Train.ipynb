{
 "cells": [
  {
   "cell_type": "code",
   "execution_count": 1,
   "metadata": {},
   "outputs": [],
   "source": [
    "import matplotlib.pyplot as plt\n",
    "import numpy as np\n",
    "import os\n",
    "import cv2\n",
    "from sklearn.ensemble import RandomForestClassifier\n",
    "from sklearn.model_selection import train_test_split\n",
    "from sklearn.metrics import accuracy_score"
   ]
  },
  {
   "cell_type": "code",
   "execution_count": 2,
   "metadata": {},
   "outputs": [],
   "source": [
    "def read_all_images(file_names):\n",
    "    result = []\n",
    "    for i in file_names:\n",
    "        image = plt.imread(os.getcwd() + '/' + i)\n",
    "        final_image = cv2.resize(image,(80,60))\n",
    "        result.append(final_image)\n",
    "    return result"
   ]
  },
  {
   "cell_type": "code",
   "execution_count": 3,
   "metadata": {
    "scrolled": true
   },
   "outputs": [
    {
     "name": "stdout",
     "output_type": "stream",
     "text": [
      "Length of Golden balloons 95 95\n",
      "Length of Red balloons 85 85\n"
     ]
    }
   ],
   "source": [
    "os.chdir(\"/Users/parth/Downloads/golden\")\n",
    "images_golden = os.listdir()\n",
    "golden_list = read_all_images(images_golden)\n",
    "print(f\"Length of Golden balloons {len(images_golden)} {len(golden_list)}\")\n",
    "\n",
    "os.chdir(\"/Users/parth/Downloads/red\")\n",
    "images_red = os.listdir()\n",
    "red_list = read_all_images(images_red)\n",
    "print(f\"Length of Red balloons {len(images_red)} {len(red_list)}\")"
   ]
  },
  {
   "cell_type": "code",
   "execution_count": 4,
   "metadata": {},
   "outputs": [
    {
     "data": {
      "text/plain": [
       "(180,)"
      ]
     },
     "execution_count": 4,
     "metadata": {},
     "output_type": "execute_result"
    }
   ],
   "source": [
    "golden_label = [0] * len(golden_list)\n",
    "red_label = [1] * len(red_list)\n",
    "Y = np.hstack([np.array(golden_label), np.array(red_label)])\n",
    "Y.shape"
   ]
  },
  {
   "cell_type": "code",
   "execution_count": 5,
   "metadata": {},
   "outputs": [],
   "source": [
    "X = np.vstack([np.array(golden_list),np.array(red_list)])"
   ]
  },
  {
   "cell_type": "code",
   "execution_count": 6,
   "metadata": {},
   "outputs": [
    {
     "data": {
      "text/plain": [
       "(180, 60, 80, 3)"
      ]
     },
     "execution_count": 6,
     "metadata": {},
     "output_type": "execute_result"
    }
   ],
   "source": [
    "X.shape"
   ]
  },
  {
   "cell_type": "code",
   "execution_count": 22,
   "metadata": {},
   "outputs": [
    {
     "name": "stdout",
     "output_type": "stream",
     "text": [
      "(60, 80, 3)\n"
     ]
    },
    {
     "data": {
      "image/png": "[encoded data removed]",
      "text/plain": [
       "<Figure size 432x288 with 1 Axes>"
      ]
     },
     "metadata": {
      "needs_background": "light"
     },
     "output_type": "display_data"
    }
   ],
   "source": [
    "plt.imshow(X[99])\n",
    "print(X[1].shape)"
   ]
  },
  {
   "cell_type": "code",
   "execution_count": 23,
   "metadata": {
    "scrolled": true
   },
   "outputs": [
    {
     "name": "stdout",
     "output_type": "stream",
     "text": [
      "(162, 60, 80, 3) (162,)\n",
      "(18, 60, 80, 3) (18,)\n",
      "(162, 14400) (162,)\n",
      "(18, 14400) (18,)\n"
     ]
    }
   ],
   "source": [
    "X_train, X_test, Y_train , Y_test = train_test_split(X,Y,test_size=0.1, random_state=42)\n",
    "print(X_train.shape, Y_train.shape)\n",
    "print(X_test.shape, Y_test.shape)\n",
    "\n",
    "X_train = np.reshape(X_train,(X_train.shape[0], X_train.shape[1] * X_train.shape[2] * X_train.shape[3]))\n",
    "X_test = np.reshape(X_test,(X_test.shape[0], X_test.shape[1] * X_test.shape[2] * X_test.shape[3]))\n",
    "print(X_train.shape, Y_train.shape)\n",
    "print(X_test.shape, Y_test.shape)"
   ]
  },
  {
   "cell_type": "code",
   "execution_count": 11,
   "metadata": {},
   "outputs": [],
   "source": [
    "classifier = RandomForestClassifier(n_estimators = 10,max_depth=2, random_state=0)"
   ]
  },
  {
   "cell_type": "code",
   "execution_count": 12,
   "metadata": {},
   "outputs": [
    {
     "data": {
      "text/plain": [
       "RandomForestClassifier(max_depth=2, n_estimators=10, random_state=0)"
      ]
     },
     "execution_count": 12,
     "metadata": {},
     "output_type": "execute_result"
    }
   ],
   "source": [
    "classifier.fit(X_train,Y_train)"
   ]
  },
  {
   "cell_type": "code",
   "execution_count": 13,
   "metadata": {},
   "outputs": [],
   "source": [
    "y_pred = classifier.predict(X_test)"
   ]
  },
  {
   "cell_type": "code",
   "execution_count": 14,
   "metadata": {},
   "outputs": [
    {
     "data": {
      "text/plain": [
       "1.0"
      ]
     },
     "execution_count": 14,
     "metadata": {},
     "output_type": "execute_result"
    }
   ],
   "source": [
    "accuracy_score(Y_test,y_pred)"
   ]
  },
  {
   "cell_type": "code",
   "execution_count": 18,
   "metadata": {},
   "outputs": [
    {
     "name": "stdout",
     "output_type": "stream",
     "text": [
      "[0 0 1 0 1 0 0 0 1 1 0 1 0 1 0 0 0 1]\n"
     ]
    }
   ],
   "source": [
    "print(y_pred)"
   ]
  },
  {
   "cell_type": "code",
   "execution_count": 19,
   "metadata": {},
   "outputs": [
    {
     "name": "stdout",
     "output_type": "stream",
     "text": [
      "[0 0 1 0 1 0 0 0 1 1 0 1 0 1 0 0 0 1]\n"
     ]
    }
   ],
   "source": [
    "print(Y_test)"
   ]
  },
  {
   "cell_type": "code",
   "execution_count": 20,
   "metadata": {},
   "outputs": [],
   "source": [
    "from micromlgen import port"
   ]
  },
  {
   "cell_type": "code",
   "execution_count": 21,
   "metadata": {},
   "outputs": [
    {
     "name": "stdout",
     "output_type": "stream",
     "text": [
      "#pragma once\n",
      "#include <cstdarg>\n",
      "namespace Eloquent {\n",
      "    namespace ML {\n",
      "        namespace Port {\n",
      "            class RandomForest {\n",
      "                public:\n",
      "                    /**\n",
      "                    * Predict class for features vector\n",
      "                    */\n",
      "                    int predict(float *x) {\n",
      "                        uint8_t votes[2] = { 0 };\n",
      "                        // tree #1\n",
      "                        if (x[8287] <= 59.0) {\n",
      "                            votes[0] += 1;\n",
      "                        }\n",
      "\n",
      "                        else {\n",
      "                            if (x[9326] <= 64.5) {\n",
      "                                votes[0] += 1;\n",
      "                            }\n",
      "\n",
      "                            else {\n",
      "                                votes[1] += 1;\n",
      "                            }\n",
      "                        }\n",
      "\n",
      "                        // tree #2\n",
      "                        if (x[8290] <= 53.0) {\n",
      "                            votes[0] += 1;\n",
      "                        }\n",
      "\n",
      "                        else {\n",
      "                            if (x[3306] <= 121.5) {\n",
      "                                votes[0] += 1;\n",
      "                            }\n",
      "\n",
      "                            else {\n",
      "                                votes[1] += 1;\n",
      "                            }\n",
      "                        }\n",
      "\n",
      "                        // tree #3\n",
      "                        if (x[11823] <= 126.5) {\n",
      "                            if (x[10189] <= 68.5) {\n",
      "                                votes[0] += 1;\n",
      "                            }\n",
      "\n",
      "                            else {\n",
      "                                votes[1] += 1;\n",
      "                            }\n",
      "                        }\n",
      "\n",
      "                        else {\n",
      "                            votes[0] += 1;\n",
      "                        }\n",
      "\n",
      "                        // tree #4\n",
      "                        if (x[8310] <= 48.5) {\n",
      "                            votes[0] += 1;\n",
      "                        }\n",
      "\n",
      "                        else {\n",
      "                            if (x[6367] <= 64.0) {\n",
      "                                votes[0] += 1;\n",
      "                            }\n",
      "\n",
      "                            else {\n",
      "                                votes[1] += 1;\n",
      "                            }\n",
      "                        }\n",
      "\n",
      "                        // tree #5\n",
      "                        if (x[8034] <= 51.5) {\n",
      "                            votes[0] += 1;\n",
      "                        }\n",
      "\n",
      "                        else {\n",
      "                            if (x[3616] <= 61.0) {\n",
      "                                votes[0] += 1;\n",
      "                            }\n",
      "\n",
      "                            else {\n",
      "                                votes[1] += 1;\n",
      "                            }\n",
      "                        }\n",
      "\n",
      "                        // tree #6\n",
      "                        if (x[1734] <= 152.5) {\n",
      "                            if (x[5453] <= 52.5) {\n",
      "                                votes[0] += 1;\n",
      "                            }\n",
      "\n",
      "                            else {\n",
      "                                votes[1] += 1;\n",
      "                            }\n",
      "                        }\n",
      "\n",
      "                        else {\n",
      "                            votes[0] += 1;\n",
      "                        }\n",
      "\n",
      "                        // tree #7\n",
      "                        if (x[108] <= 167.5) {\n",
      "                            votes[1] += 1;\n",
      "                        }\n",
      "\n",
      "                        else {\n",
      "                            if (x[10436] <= 129.5) {\n",
      "                                votes[0] += 1;\n",
      "                            }\n",
      "\n",
      "                            else {\n",
      "                                votes[1] += 1;\n",
      "                            }\n",
      "                        }\n",
      "\n",
      "                        // tree #8\n",
      "                        if (x[301] <= 153.5) {\n",
      "                            if (x[9013] <= 39.5) {\n",
      "                                votes[0] += 1;\n",
      "                            }\n",
      "\n",
      "                            else {\n",
      "                                votes[1] += 1;\n",
      "                            }\n",
      "                        }\n",
      "\n",
      "                        else {\n",
      "                            votes[0] += 1;\n",
      "                        }\n",
      "\n",
      "                        // tree #9\n",
      "                        if (x[8763] <= 41.5) {\n",
      "                            votes[0] += 1;\n",
      "                        }\n",
      "\n",
      "                        else {\n",
      "                            if (x[1967] <= 136.5) {\n",
      "                                votes[0] += 1;\n",
      "                            }\n",
      "\n",
      "                            else {\n",
      "                                votes[1] += 1;\n",
      "                            }\n",
      "                        }\n",
      "\n",
      "                        // tree #10\n",
      "                        if (x[1755] <= 153.5) {\n",
      "                            if (x[7030] <= 157.0) {\n",
      "                                votes[1] += 1;\n",
      "                            }\n",
      "\n",
      "                            else {\n",
      "                                votes[0] += 1;\n",
      "                            }\n",
      "                        }\n",
      "\n",
      "                        else {\n",
      "                            if (x[420] <= 122.5) {\n",
      "                                votes[1] += 1;\n",
      "                            }\n",
      "\n",
      "                            else {\n",
      "                                votes[0] += 1;\n",
      "                            }\n",
      "                        }\n",
      "\n",
      "                        // return argmax of votes\n",
      "                        uint8_t classIdx = 0;\n",
      "                        float maxVotes = votes[0];\n",
      "\n",
      "                        for (uint8_t i = 1; i < 2; i++) {\n",
      "                            if (votes[i] > maxVotes) {\n",
      "                                classIdx = i;\n",
      "                                maxVotes = votes[i];\n",
      "                            }\n",
      "                        }\n",
      "\n",
      "                        return classIdx;\n",
      "                    }\n",
      "\n",
      "                protected:\n",
      "                };\n",
      "            }\n",
      "        }\n",
      "    }\n"
     ]
    }
   ],
   "source": [
    "c_code = port(classifier)\n",
    "print(c_code)"
   ]
  },
  {
   "cell_type": "code",
   "execution_count": null,
   "metadata": {},
   "outputs": [],
   "source": []
  }
 ],
 "metadata": {
  "kernelspec": {
   "display_name": "Python 3",
   "language": "python",
   "name": "python3"
  },
  "language_info": {
   "codemirror_mode": {
    "name": "ipython",
    "version": 3
   },
   "file_extension": ".py",
   "mimetype": "text/x-python",
   "name": "python",
   "nbconvert_exporter": "python",
   "pygments_lexer": "ipython3",
   "version": "3.8.3"
  }
 },
 "nbformat": 4,
 "nbformat_minor": 4
}
